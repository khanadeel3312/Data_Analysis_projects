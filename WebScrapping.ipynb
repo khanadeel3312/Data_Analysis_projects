{
 "cells": [
  {
   "cell_type": "code",
   "execution_count": 1,
   "id": "4884e946-afa2-4e52-85d7-2fd599ea632c",
   "metadata": {
    "tags": []
   },
   "outputs": [],
   "source": [
    "from bs4 import BeautifulSoup\n",
    "import requests"
   ]
  },
  {
   "cell_type": "code",
   "execution_count": 5,
   "id": "aa1ed333-1668-4b08-ab03-c58a3aed16e9",
   "metadata": {
    "tags": []
   },
   "outputs": [
    {
     "ename": "NameError",
     "evalue": "name 'bs4' is not defined",
     "output_type": "error",
     "traceback": [
      "\u001b[1;31m---------------------------------------------------------------------------\u001b[0m",
      "\u001b[1;31mNameError\u001b[0m                                 Traceback (most recent call last)",
      "Cell \u001b[1;32mIn[5], line 1\u001b[0m\n\u001b[1;32m----> 1\u001b[0m bs4\u001b[38;5;241m.\u001b[39m__version__\n",
      "\u001b[1;31mNameError\u001b[0m: name 'bs4' is not defined"
     ]
    }
   ],
   "source": [
    "bs4.__version__"
   ]
  },
  {
   "cell_type": "code",
   "execution_count": 2,
   "id": "c34e0756-aa0b-4470-ad12-bf9e792844b5",
   "metadata": {},
   "outputs": [
    {
     "name": "stdout",
     "output_type": "stream",
     "text": [
      "<!doctype html>\n",
      "<html lang=\"en\">\n",
      "   <head>\n",
      "      <meta charset=\"utf-8\">\n",
      "      <meta name=\"viewport\" content=\"width=device-width, initial-scale=1, shrink-to-fit=no\">\n",
      "      <link rel=\"stylesheet\" href=\"https://stackpath.bootstrapcdn.com/bootstrap/4.5.2/css/bootstrap.min.css\" integrity=\"sha384-JcKb8q3iqJ61gNV9KGb8thSsNjpSL0n8PARn9HuZOnIxN0hoP+VmmDGMN5t9UJ0Z\" crossorigin=\"anonymous\">\n",
      "      <title>My Courses</title>\n",
      "   </head>\n",
      "   <body>\n",
      "      <h1>Hello, Start Learning!</h1>\n",
      "      <div class=\"card\" id=\"card-python-for-beginners\">\n",
      "         <div class=\"card-header\">\n",
      "            Python\n",
      "         </div>\n",
      "         <div class=\"card-body\">\n",
      "            <h5 class=\"card-title\">Python for beginners</h5>\n",
      "            <p class=\"card-text\">If you are new to Python, this is the course that you should buy!</p>\n",
      "            <a href=\"#\" class=\"btn btn-primary\">Start for 20$</a>\n",
      "         </div>\n",
      "      </div>\n",
      "      <div class=\"card\" id=\"card-python-web-development\">\n",
      "         <div class=\"card-header\">\n",
      "            Python\n",
      "         </div>\n",
      "         <div class=\"card-body\">\n",
      "            <h5 class=\"card-title\">Python Web Development</h5>\n",
      "            <p class=\"card-text\">If you feel enough confident with python, you are ready to learn how to create your own website!</p>\n",
      "            <a href=\"#\" class=\"btn btn-primary\">Start for 50$</a>\n",
      "         </div>\n",
      "      </div>\n",
      "      <div class=\"card\" id=\"card-python-machine-learning\">\n",
      "         <div class=\"card-header\">\n",
      "            Python\n",
      "         </div>\n",
      "         <div class=\"card-body\">\n",
      "            <h5 class=\"card-title\">Python Machine Learning</h5>\n",
      "            <p class=\"card-text\">Become a Python Machine Learning master!</p>\n",
      "            <a href=\"#\" class=\"btn btn-primary\">Start for 100$</a>\n",
      "         </div>\n",
      "      </div>\n",
      "   </body>\n",
      "</html>\n"
     ]
    }
   ],
   "source": [
    "with open ('webscrap.html','r') as html_file:\n",
    "    content=html_file.read()\n",
    "    print(content)"
   ]
  },
  {
   "cell_type": "code",
   "execution_count": 3,
   "id": "ac5ef1c3-da30-4921-86e4-be20063fe59d",
   "metadata": {
    "tags": []
   },
   "outputs": [
    {
     "name": "stdout",
     "output_type": "stream",
     "text": [
      "<!DOCTYPE html>\n",
      "<html lang=\"en\">\n",
      " <head>\n",
      "  <meta charset=\"utf-8\"/>\n",
      "  <meta content=\"width=device-width, initial-scale=1, shrink-to-fit=no\" name=\"viewport\"/>\n",
      "  <link crossorigin=\"anonymous\" href=\"https://stackpath.bootstrapcdn.com/bootstrap/4.5.2/css/bootstrap.min.css\" integrity=\"sha384-JcKb8q3iqJ61gNV9KGb8thSsNjpSL0n8PARn9HuZOnIxN0hoP+VmmDGMN5t9UJ0Z\" rel=\"stylesheet\"/>\n",
      "  <title>\n",
      "   My Courses\n",
      "  </title>\n",
      " </head>\n",
      " <body>\n",
      "  <h1>\n",
      "   Hello, Start Learning!\n",
      "  </h1>\n",
      "  <div class=\"card\" id=\"card-python-for-beginners\">\n",
      "   <div class=\"card-header\">\n",
      "    Python\n",
      "   </div>\n",
      "   <div class=\"card-body\">\n",
      "    <h5 class=\"card-title\">\n",
      "     Python for beginners\n",
      "    </h5>\n",
      "    <p class=\"card-text\">\n",
      "     If you are new to Python, this is the course that you should buy!\n",
      "    </p>\n",
      "    <a class=\"btn btn-primary\" href=\"#\">\n",
      "     Start for 20$\n",
      "    </a>\n",
      "   </div>\n",
      "  </div>\n",
      "  <div class=\"card\" id=\"card-python-web-development\">\n",
      "   <div class=\"card-header\">\n",
      "    Python\n",
      "   </div>\n",
      "   <div class=\"card-body\">\n",
      "    <h5 class=\"card-title\">\n",
      "     Python Web Development\n",
      "    </h5>\n",
      "    <p class=\"card-text\">\n",
      "     If you feel enough confident with python, you are ready to learn how to create your own website!\n",
      "    </p>\n",
      "    <a class=\"btn btn-primary\" href=\"#\">\n",
      "     Start for 50$\n",
      "    </a>\n",
      "   </div>\n",
      "  </div>\n",
      "  <div class=\"card\" id=\"card-python-machine-learning\">\n",
      "   <div class=\"card-header\">\n",
      "    Python\n",
      "   </div>\n",
      "   <div class=\"card-body\">\n",
      "    <h5 class=\"card-title\">\n",
      "     Python Machine Learning\n",
      "    </h5>\n",
      "    <p class=\"card-text\">\n",
      "     Become a Python Machine Learning master!\n",
      "    </p>\n",
      "    <a class=\"btn btn-primary\" href=\"#\">\n",
      "     Start for 100$\n",
      "    </a>\n",
      "   </div>\n",
      "  </div>\n",
      " </body>\n",
      "</html>\n",
      "\n"
     ]
    }
   ],
   "source": [
    "soup=BeautifulSoup(content,'lxml')\n",
    "print(soup.prettify())"
   ]
  },
  {
   "cell_type": "code",
   "execution_count": 4,
   "id": "985a1545-1d93-4fc8-8371-b83f4a44cf5f",
   "metadata": {
    "tags": []
   },
   "outputs": [
    {
     "name": "stdout",
     "output_type": "stream",
     "text": [
      "[<h5 class=\"card-title\">Python for beginners</h5>, <h5 class=\"card-title\">Python Web Development</h5>, <h5 class=\"card-title\">Python Machine Learning</h5>]\n"
     ]
    }
   ],
   "source": [
    "courses_tags=soup.find_all('h5')\n",
    "print(courses_tags)"
   ]
  },
  {
   "cell_type": "code",
   "execution_count": 9,
   "id": "bb133b68-a2d3-4666-815a-f406097c068d",
   "metadata": {
    "tags": []
   },
   "outputs": [
    {
     "name": "stdout",
     "output_type": "stream",
     "text": [
      "Python for beginners\n",
      "Python Web Development\n",
      "Python Machine Learning\n"
     ]
    }
   ],
   "source": [
    "for courses in courses_tags:\n",
    "    print(courses.text)"
   ]
  },
  {
   "cell_type": "code",
   "execution_count": null,
   "id": "5eaf7434-42b7-4288-bd69-60c7b21d4bd1",
   "metadata": {},
   "outputs": [],
   "source": []
  },
  {
   "cell_type": "code",
   "execution_count": 10,
   "id": "2c0d859c-44eb-49f9-9621-4533fd129614",
   "metadata": {
    "tags": []
   },
   "outputs": [
    {
     "name": "stdout",
     "output_type": "stream",
     "text": [
      "Python for beginners costs 20$\n",
      "Python Web Development costs 50$\n",
      "Python Machine Learning costs 100$\n"
     ]
    }
   ],
   "source": [
    "course_cards=soup.find_all('div',class_='card')\n",
    "for course in course_cards:\n",
    "   course_name=course.h5.text\n",
    "   course_price=course.a.text.split()[-1]\n",
    "  # print(course_name)\n",
    "   #print(course_price)\n",
    "   print(f'{course_name} costs {course_price}')\n"
   ]
  },
  {
   "cell_type": "code",
   "execution_count": 11,
   "id": "c0ef4fb8-11f2-44b7-b7bf-a723561113a4",
   "metadata": {
    "tags": []
   },
   "outputs": [],
   "source": [
    "#WORKING ON A REAL WEBSITE"
   ]
  },
  {
   "cell_type": "code",
   "execution_count": 12,
   "id": "b4ef3b36-8570-4b42-8f47-ab4d3d6d67b8",
   "metadata": {
    "tags": []
   },
   "outputs": [],
   "source": [
    "html_text=requests.get('https://www.timesjobs.com/candidate/job-search.html?searchType=personalizedSearch&from=submit&txtKeywords=python&txtLocation=').text\n",
    "soup=BeautifulSoup(html_text,'lxml')"
   ]
  },
  {
   "cell_type": "code",
   "execution_count": 25,
   "id": "c26cef5b-28c2-4811-9cab-29ccee82835a",
   "metadata": {
    "tags": []
   },
   "outputs": [],
   "source": [
    "jobs=soup.find_all('li',class_='clearfix job-bx wht-shd-bx')\n",
    "#company_name=jobs.find('h3',class_='joblist-comp-name').text\n",
    "#print(company_name)"
   ]
  },
  {
   "cell_type": "code",
   "execution_count": 14,
   "id": "9020c6aa-e332-47d3-817f-3fdff4487beb",
   "metadata": {
    "tags": []
   },
   "outputs": [
    {
     "data": {
      "text/plain": [
       "'rest,python,security,debugging'"
      ]
     },
     "execution_count": 14,
     "metadata": {},
     "output_type": "execute_result"
    }
   ],
   "source": [
    "skills=jobs.find('span',class_='srp-skills').text.replace('\\r\\n','').replace(' ','')\n",
    "skills"
   ]
  },
  {
   "cell_type": "code",
   "execution_count": 15,
   "id": "fe2b14ed-2ce4-4734-9132-a4abe022d7fa",
   "metadata": {
    "tags": []
   },
   "outputs": [
    {
     "name": "stdout",
     "output_type": "stream",
     "text": [
      "\n",
      "Company name:\n",
      "    Ivan Infotech Pvt. Ltd.\n",
      "    \n",
      "    \n",
      "Required skill:rest,python,security,debugging\n",
      "\n"
     ]
    }
   ],
   "source": [
    "print(f'''\n",
    "Company name:{company_name}\n",
    "Required skill:{skills}\n",
    "''')"
   ]
  },
  {
   "cell_type": "code",
   "execution_count": 16,
   "id": "4e617c0b-d8de-4af4-b779-baf0fe604319",
   "metadata": {
    "tags": []
   },
   "outputs": [
    {
     "data": {
      "text/plain": [
       "'Posted few days ago'"
      ]
     },
     "execution_count": 16,
     "metadata": {},
     "output_type": "execute_result"
    }
   ],
   "source": [
    "post_time=jobs.find('span',class_='sim-posted').text.replace('\\n','')\n",
    "post_time"
   ]
  },
  {
   "cell_type": "code",
   "execution_count": 35,
   "id": "7f958c01-d35c-47f1-a3a1-ad30a627e74f",
   "metadata": {},
   "outputs": [
    {
     "name": "stdout",
     "output_type": "stream",
     "text": [
      "Put some skill u are unfamiliar\n"
     ]
    },
    {
     "name": "stdin",
     "output_type": "stream",
     "text": [
      "> linux\n"
     ]
    },
    {
     "name": "stdout",
     "output_type": "stream",
     "text": [
      "Filtering linux \n",
      "Company name:Ivan Infotech Pvt. Ltd.\n",
      "Required skill:rest,python,security,debugging\n",
      "More info:https://www.timesjobs.com/job-detail/python-developer-ivan-infotech-pvt-ltd-kolkata-2-to-5-yrs-jobid-1h6sLaqbaBZzpSvf__PLUS__uAgZw==&source=srp\n",
      " \n",
      "Company name:east india securities ltd.\n",
      "Required skill:python,hadoop,machinelearning\n",
      "More info:https://www.timesjobs.com/job-detail/python-engineer-east-india-securities-ltd-kolkata-2-to-5-yrs-jobid-KEkE19WqPbFzpSvf__PLUS__uAgZw==&source=srp\n",
      " \n",
      "Company name:art technology and software india pvt ltd\n",
      "Required skill:rest,python,database,django,api\n",
      "More info:https://www.timesjobs.com/job-detail/python-developer-art-technology-and-software-india-pvt-ltd-cochin-kochi-ernakulam-2-to-3-yrs-jobid-M26lxDEd__PLUS__qtzpSvf__PLUS__uAgZw==&source=srp\n",
      " \n",
      "Company name:DREAMAJAX TECHNOLOGIES\n",
      "Required skill:python,django,api,sql,nosql\n",
      "More info:https://www.timesjobs.com/job-detail/python-developer-dreamajax-technologies-bengaluru-bangalore-4-to-7-yrs-jobid-EWIVCDzRLKBzpSvf__PLUS__uAgZw==&source=srp\n",
      " \n",
      "Company name:day1 technologies\n",
      "Required skill:rest,python,django,git,postgresql,sql,docker\n",
      "More info:https://www.timesjobs.com/job-detail/python-developer-day1-technologies-bengaluru-bangalore-2-to-3-yrs-jobid-wnkkahyN0x9zpSvf__PLUS__uAgZw==&source=srp\n",
      " \n",
      "Company name:xonier technologies pvt ltd\n",
      "Required skill:python,django,testingtools,debugging,storage\n",
      "More info:https://www.timesjobs.com/job-detail/python-developer-xonier-technologies-pvt-ltd-noida-greater-noida-2-to-5-yrs-jobid-VZ3nXzqL2FNzpSvf__PLUS__uAgZw==&source=srp\n",
      " \n",
      "Company name:InnOvator Web Solutions Pvt.Ltd.\n",
      "Required skill:rest,python,django,webdeveloper,mysql,api\n",
      "More info:https://www.timesjobs.com/job-detail/python-developer-innovator-web-solutions-pvt-ltd-mumbai-5-to-8-yrs-jobid-OO__SLASH__Qb2Q7MfpzpSvf__PLUS__uAgZw==&source=srp\n",
      " \n",
      "Company name:pearl global solutions\n",
      "Required skill:python,database,django,teamplayer,sql\n",
      "More info:https://www.timesjobs.com/job-detail/python-developer-pearl-global-solutions-cochin-kochi-ernakulam-4-to-7-yrs-jobid-dZD__SLASH__NDlCjpVzpSvf__PLUS__uAgZw==&source=srp\n",
      " \n",
      "Company name:AxisTechnolabs\n",
      "Required skill:python,django,itskills,html5,api,jquery\n",
      "More info:https://www.timesjobs.com/job-detail/python-odoo-axistechnolabs-ahmedabad-0-to-1-yrs-jobid-HzL8naalyxFzpSvf__PLUS__uAgZw==&source=srp\n",
      " \n",
      "Company name:CIGNEX Datamatics Technologies Pvt Ltd\n",
      "Required skill:python,sql,django,postgresql,writtencommunication,api,angularjs\n",
      "More info:https://www.timesjobs.com/job-detail/python-developer-cignex-datamatics-technologies-pvt-ltd-bengaluru-bangalore-3-to-5-yrs-jobid-tqMdlJMDwsFzpSvf__PLUS__uAgZw==&source=srp\n",
      " \n",
      "Company name:Sourcedesk Global Private Limited\n",
      "Required skill:html5,storage,python,javascript,django,infrastructure\n",
      "More info:https://www.timesjobs.com/job-detail/python-developer-sourcedesk-global-private-limited-kolkata-3-to-15-yrs-jobid-A27Uf03p2IJzpSvf__PLUS__uAgZw==&source=srp\n",
      " \n",
      "Company name:GS LAB\n",
      "Required skill:python,fastapi,aws,restapi,docker,database,sql,nosql\n",
      "More info:https://www.timesjobs.com/job-detail/python-developer-gs-lab-pune-3-to-6-yrs-jobid-PWjveL4FP9FzpSvf__PLUS__uAgZw==&source=srp\n",
      " \n",
      "Company name:GS LAB\n",
      "Required skill:python,fastapi,aws,restapi,docker,database,sql,nosql\n",
      "More info:https://www.timesjobs.com/job-detail/python-developer-gs-lab-pune-3-to-6-yrs-jobid-__PLUS__H9kIZ4aaFZzpSvf__PLUS__uAgZw==&source=srp\n",
      " \n",
      "Company name:TECHNOPARK TRIVANDRUM\n",
      "Required skill:python,django,restapi,sql,javascript,git,svn\n",
      "More info:https://www.timesjobs.com/job-detail/python-developer-technopark-trivandrum-cochin-kochi-ernakulam-3-to-6-yrs-jobid-yxYJ54XosKBzpSvf__PLUS__uAgZw==&source=srp\n",
      " \n",
      "Company name:innefu labs pvt. ltd.\n",
      "Required skill:python,database,django,neo4j,mining,webcrawling\n",
      "More info:https://www.timesjobs.com/job-detail/python-developer-innefu-labs-pvt-ltd-delhi-delhi-ncr-4-to-5-yrs-jobid-FxKbGzMsPBFzpSvf__PLUS__uAgZw==&source=srp\n",
      " \n"
     ]
    }
   ],
   "source": [
    "print('Put some skill u are unfamiliar')\n",
    "unfamiliar_skill=input('>')\n",
    "print(f'Filtering {unfamiliar_skill} ')\n",
    "\n",
    "for job in jobs:\n",
    "     post_time=job.find('span',class_='sim-posted').text.replace('\\n','')\n",
    "     if 'few' in post_time:\n",
    "      company_name=job.find('h3',class_='joblist-comp-name').text\n",
    "      skills=job.find('span',class_='srp-skills').text.replace('\\r\\n','').replace(' ','')\n",
    "      more_info=job.header.h2.a['href']\n",
    "      if unfamiliar_skill not in skills:\n",
    "  \n",
    "      \n",
    "       print(f\"Company name:{company_name.strip()}\")\n",
    "       print(f\"Required skill:{skills.strip()}\")\n",
    "       print(f\"More info:{more_info}\")\n",
    "       print(' ')\n",
    "        \n",
    "    "
   ]
  },
  {
   "cell_type": "code",
   "execution_count": null,
   "id": "b1aa77ee-1d01-4572-89b4-0ccc3562b3f2",
   "metadata": {},
   "outputs": [],
   "source": [
    "\n"
   ]
  }
 ],
 "metadata": {
  "kernelspec": {
   "display_name": "Python 3 (ipykernel)",
   "language": "python",
   "name": "python3"
  },
  "language_info": {
   "codemirror_mode": {
    "name": "ipython",
    "version": 3
   },
   "file_extension": ".py",
   "mimetype": "text/x-python",
   "name": "python",
   "nbconvert_exporter": "python",
   "pygments_lexer": "ipython3",
   "version": "3.11.4"
  }
 },
 "nbformat": 4,
 "nbformat_minor": 5
}
